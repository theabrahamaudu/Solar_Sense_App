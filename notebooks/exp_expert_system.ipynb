{
 "cells": [
  {
   "cell_type": "code",
   "execution_count": 2,
   "metadata": {},
   "outputs": [],
   "source": [
    "from src.data.product_prices import products\n",
    "import re"
   ]
  },
  {
   "cell_type": "code",
   "execution_count": 13,
   "metadata": {},
   "outputs": [],
   "source": [
    "def inverter_spec(load: int, products: dict) -> str:\n",
    "    req_capacity = (load / 0.71) / 1000  # Required capacity in kVA\n",
    "\n",
    "    suitable_inverter = None\n",
    "    for inverter, description in products.items():\n",
    "        if \"Inverter\" in inverter:\n",
    "            capacity = float(re.search(r'\\d+(\\.\\d+)?', inverter).group())\n",
    "            if capacity >= req_capacity:\n",
    "                suitable_inverter = inverter\n",
    "                break\n",
    "\n",
    "    return suitable_inverter"
   ]
  },
  {
   "cell_type": "code",
   "execution_count": 59,
   "metadata": {},
   "outputs": [
    {
     "data": {
      "text/plain": [
       "'Inverter 1 KVA 12V'"
      ]
     },
     "execution_count": 59,
     "metadata": {},
     "output_type": "execute_result"
    }
   ],
   "source": [
    "inverter_spec(400, products)"
   ]
  },
  {
   "cell_type": "code",
   "execution_count": 33,
   "metadata": {},
   "outputs": [],
   "source": [
    "def battery_bank_spec(load: int,\n",
    "                      duration: int,\n",
    "                      inverter_spec: str, \n",
    "                      b_type: str = \"Battery 220Ah 12V Tubular\",\n",
    "                      DoD: float = 0.7,\n",
    "                      b_eff: float = 0.9,\n",
    "                      b_volt: int = 12) -> tuple:\n",
    "    \n",
    "    sys_voltage = int(re.search(r'\\b(\\d+)V\\b', inverter_spec).group(1))\n",
    "    battery_multiples = sys_voltage/b_volt\n",
    "    consumption = load * duration\n",
    "    req_capacity = (consumption)/(DoD * b_eff)\n",
    "\n",
    "    ah_rating = int(re.search(r'\\b(\\d+)Ah?\\b', b_type).group(1))\n",
    "\n",
    "    b_capacity = b_volt * ah_rating\n",
    "\n",
    "    num_batteries = req_capacity / b_capacity\n",
    "\n",
    "    # Round num_batteries to the nearest integer and ensure \n",
    "    # it is divisible by battery_multiples (excluding 1)\n",
    "    rounded_batteries = round(num_batteries)\n",
    "    if rounded_batteries != 1 and rounded_batteries % battery_multiples != 0:\n",
    "        rounded_batteries += 1\n",
    "\n",
    "    return (b_type, rounded_batteries, consumption)\n",
    "\n"
   ]
  },
  {
   "cell_type": "code",
   "execution_count": 58,
   "metadata": {},
   "outputs": [
    {
     "data": {
      "text/plain": [
       "('Battery 200Ah 12V', 2, 2400)"
      ]
     },
     "execution_count": 58,
     "metadata": {},
     "output_type": "execute_result"
    }
   ],
   "source": [
    "battery_bank_spec(400, 6, inverter_spec(400, products),\"Battery 200Ah 12V\")"
   ]
  },
  {
   "cell_type": "code",
   "execution_count": 53,
   "metadata": {},
   "outputs": [],
   "source": [
    "def solar_spec(panel_type: str,\n",
    "               consumption: int, \n",
    "               inverter_spec: str,\n",
    "               peak_sun_hrs: int,\n",
    "               panel_eff: int = 0.75) -> tuple:\n",
    "    \n",
    "    sys_volt = int(re.search(r'\\b(\\d+)V\\b', inverter_spec).group(1))\n",
    " \n",
    "    panel_watt = int(re.findall(r'\\b(\\d+)W\\b', panel_type)[0])\n",
    "    panel_volt = int(re.findall(r'\\b(\\d+)V\\b', panel_type)[0])\n",
    "    \n",
    "    panel_multiples = sys_volt/panel_volt\n",
    "\n",
    "    req_capacity = consumption/(peak_sun_hrs * panel_eff)\n",
    "\n",
    "    num_panels = req_capacity/panel_watt\n",
    "\n",
    "    # Round num_panels to the nearest integer and ensure \n",
    "    # it is divisible by panel_multiples (excluding 1)\n",
    "    rounded_panels = round(num_panels)\n",
    "    if rounded_panels != 1 and rounded_panels % panel_multiples != 0:\n",
    "        rounded_panels += 1\n",
    "\n",
    "    controller_capacity = (rounded_panels * panel_watt)/sys_volt\n",
    "\n",
    "    return (rounded_panels, controller_capacity)\n"
   ]
  },
  {
   "cell_type": "code",
   "execution_count": 61,
   "metadata": {},
   "outputs": [
    {
     "data": {
      "text/plain": [
       "(6, 50.0)"
      ]
     },
     "execution_count": 61,
     "metadata": {},
     "output_type": "execute_result"
    }
   ],
   "source": [
    "solar_spec(panel_type=\"Mono Solar Panel 100W 12V\", \n",
    "           consumption=2400,\n",
    "           inverter_spec='Inverter 1 KVA 12V',\n",
    "           peak_sun_hrs=5)"
   ]
  },
  {
   "cell_type": "code",
   "execution_count": 13,
   "metadata": {},
   "outputs": [],
   "source": [
    "def find_combination(p, q, r):\n",
    "    best_combination = (float('inf'), float('inf'))\n",
    "\n",
    "    for pi in p:\n",
    "        for qi in q:\n",
    "            min_value = min(pi, qi)\n",
    "            product = pi * qi\n",
    "            if product >= r and min_value < min(best_combination):\n",
    "                best_combination = (pi, qi)\n",
    "\n",
    "    return best_combination\n",
    "\n",
    "def controller_spec(controller_capacity: float,\n",
    "                    controller_type: str,\n",
    "                    products: dict) -> tuple:\n",
    "\n",
    "    # Create separate lists to store MPPT and PWM charge controllers capacities\n",
    "    mppt_controllers = []\n",
    "    pwm_controllers = []\n",
    "\n",
    "    mppt_names = []\n",
    "    pwm_names = []\n",
    "\n",
    "    # Iterate through the products dictionary to categorize controllers based on type\n",
    "    for product_name, product_desc in products.items():\n",
    "        if \"MPPT\" in product_desc:\n",
    "            mppt_controllers.append(float(re.search(r'\\b(\\d+)A\\b', product_desc).group(1)))\n",
    "            mppt_names.append(product_name)\n",
    "        elif \"PWM\" in product_desc:\n",
    "            pwm_controllers.append(float(re.search(r'\\b(\\d+)A\\b', product_desc).group(1)))\n",
    "            pwm_names.append(product_name)\n",
    "\n",
    "    # Select the closest capacity from the respective controller type list\n",
    "    if controller_type == \"MPPT\":\n",
    "        selected_capacity_list = mppt_controllers\n",
    "    elif controller_type == \"PWM\":\n",
    "        selected_capacity_list = pwm_controllers\n",
    "    else:\n",
    "        raise ValueError(\"Invalid controller_type. Use 'MPPT' or 'PWM'.\")\n",
    "\n",
    "    # Sort the selected_capacity_list in ascending order\n",
    "    selected_capacity_list.sort()\n",
    "\n",
    "    # Find best combination of controller capacity and number of units\n",
    "    multi_range = list(range(5))\n",
    "    capacity, num_controllers = find_combination(selected_capacity_list,\n",
    "                                                 multi_range,\n",
    "                                                 controller_capacity)\n",
    "    # Get controller name\n",
    "    if controller_type == \"MPPT\":\n",
    "        controller_name = [name for name in mppt_names if str(int(capacity)) in name][0]\n",
    "    elif controller_type == \"PWM\":\n",
    "        controller_name = [name for name in pwm_names if str(int(capacity)) in name][0]\n",
    "    else:\n",
    "        raise ValueError(\"Invalid controller_type. Use 'MPPT' or 'PWM'.\")\n",
    "\n",
    "    # Return the best combination\n",
    "    return controller_name, num_controllers\n"
   ]
  },
  {
   "cell_type": "code",
   "execution_count": 14,
   "metadata": {},
   "outputs": [
    {
     "data": {
      "text/plain": [
       "('MPPT Charge Controller 120A', 2)"
      ]
     },
     "execution_count": 14,
     "metadata": {},
     "output_type": "execute_result"
    }
   ],
   "source": [
    "controller_spec(200, \"MPPT\", products)"
   ]
  },
  {
   "cell_type": "code",
   "execution_count": null,
   "metadata": {},
   "outputs": [],
   "source": []
  }
 ],
 "metadata": {
  "kernelspec": {
   "display_name": ".venv",
   "language": "python",
   "name": "python3"
  },
  "language_info": {
   "codemirror_mode": {
    "name": "ipython",
    "version": 3
   },
   "file_extension": ".py",
   "mimetype": "text/x-python",
   "name": "python",
   "nbconvert_exporter": "python",
   "pygments_lexer": "ipython3",
   "version": "3.10.12"
  },
  "orig_nbformat": 4
 },
 "nbformat": 4,
 "nbformat_minor": 2
}
